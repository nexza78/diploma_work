{
 "cells": [
  {
   "cell_type": "code",
   "execution_count": 1,
   "metadata": {},
   "outputs": [
    {
     "name": "stderr",
     "output_type": "stream",
     "text": [
      "2023-05-30 00:35:57.271 \n",
      "  \u001b[33m\u001b[1mWarning:\u001b[0m to view this Streamlit app on a browser, run it with the following\n",
      "  command:\n",
      "\n",
      "    streamlit run C:\\Users\\stan_\\AppData\\Roaming\\Python\\Python310\\site-packages\\ipykernel_launcher.py [ARGUMENTS]\n"
     ]
    }
   ],
   "source": [
    "\n",
    "\n",
    "\n",
    "def clear_submit():\n",
    "    st.session_state[\"submit\"] = False\n",
    "\n",
    "im = Image.open(\"C:\\\\Users\\\\stan_\\\\lidc-idri-preproc\\\\diploma_work\\\\EfficientNet\\\\ct_icon.ico\")\n",
    "st.set_page_config(page_title=\"Классификация узелков\", page_icon=im, layout=\"wide\")\n",
    "st.header(\"Классификация узелков\")\n",
    "\n",
    "loaded_model = load_kereas_model('C:\\\\Users\\\\stan_\\\\lidc-idri-preproc\\\\diploma_work\\\\EfficientNet\\\\kEffNetV2-1-best_result.hdf5')\n",
    "loaded_model.compile(loss='categorical_crossentropy',\n",
    "    optimizer=RMSprop(),\n",
    "    metrics=['accuracy'])\n",
    "\n",
    "hide_default_format = \"\"\"\n",
    "       <style>\n",
    "       #MainMenu {visibility: hidden; }\n",
    "       footer {visibility: hidden;}\n",
    "       </style>\n",
    "       \"\"\"\n",
    "st.markdown(hide_default_format, unsafe_allow_html=True)\n",
    "\n",
    "#sidebar()\n",
    "\n",
    "uploaded_file = st.file_uploader(\n",
    "    \"Загрузить .npy файл\",\n",
    "    type=[\"npy\"],\n",
    "    help=\"Поддерживаются файлы формата .npy размера 32х32\",\n",
    "    on_change=clear_submit,\n",
    ")\n",
    "\n",
    "if uploaded_file is not None:\n",
    "    if uploaded_file.name.endswith(\".npy\"):\n",
    "        #doc = parse_pdf(uploaded_file)\n",
    "        print(uploaded_file, type(uploaded_file))\n",
    "        f = np.load(uploaded_file)\n",
    "        fig = px.imshow(f,aspect='equal')\n",
    "        print('asdsd')\n",
    "    else:\n",
    "        raise ValueError(\"Данный тип файлов не поддерживается!\")\n",
    "#    #try:\n",
    "#    #    with st.spinner(\"Indexing document... This may take a while⏳\"):\n",
    "#    #        index = embed_docs(text)\n",
    "#    #    st.session_state[\"api_key_configured\"] = True\n",
    "#    #except OpenAIError as e:\n",
    "#    #    st.error(e._message)"
   ]
  },
  {
   "cell_type": "code",
   "execution_count": 2,
   "metadata": {},
   "outputs": [],
   "source": [
    "from keras.optimizers import RMSprop\n",
    "from plotly import express as px\n",
    "import streamlit as st\n",
    "from PIL import Image\n",
    "import os\n",
    "from components.sidebar import sidebar\n",
    "import numpy as np\n",
    "\n",
    "from keras.optimizers import RMSprop\n",
    "from cai.models import load_kereas_model\n",
    "from keras.models import load_model\n",
    "from cai import layers"
   ]
  },
  {
   "cell_type": "code",
   "execution_count": 3,
   "metadata": {},
   "outputs": [
    {
     "name": "stdout",
     "output_type": "stream",
     "text": [
      "1/1 [==============================] - 5s 5s/step\n"
     ]
    },
    {
     "data": {
      "text/plain": [
       "array([1], dtype=int64)"
      ]
     },
     "execution_count": 3,
     "metadata": {},
     "output_type": "execute_result"
    }
   ],
   "source": [
    "f = np.load(\"X_tr1.npy\")\n",
    "loaded_model = load_kereas_model('C:\\\\Users\\\\stan_\\\\lidc-idri-preproc\\\\diploma_work\\\\EfficientNet\\\\kEffNetV2-1-best_result.hdf5')\n",
    "np.argmax(loaded_model.predict(f[123][:, :].reshape(1, f[123][:, :].shape[0], f[123][:, :].shape[1], 1)), axis=-1)"
   ]
  },
  {
   "cell_type": "code",
   "execution_count": 2,
   "metadata": {},
   "outputs": [
    {
     "data": {
      "text/plain": [
       "(11809, 32, 32)"
      ]
     },
     "execution_count": 2,
     "metadata": {},
     "output_type": "execute_result"
    }
   ],
   "source": [
    "v = np.load(\"X_tr1.npy\")\n",
    "v.shape"
   ]
  }
 ],
 "metadata": {
  "kernelspec": {
   "display_name": "Python 3",
   "language": "python",
   "name": "python3"
  },
  "language_info": {
   "codemirror_mode": {
    "name": "ipython",
    "version": 3
   },
   "file_extension": ".py",
   "mimetype": "text/x-python",
   "name": "python",
   "nbconvert_exporter": "python",
   "pygments_lexer": "ipython3",
   "version": "3.10.11"
  },
  "orig_nbformat": 4
 },
 "nbformat": 4,
 "nbformat_minor": 2
}
